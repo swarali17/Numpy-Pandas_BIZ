{
 "cells": [
  {
   "cell_type": "code",
   "execution_count": 1,
   "metadata": {},
   "outputs": [],
   "source": [
    "import numpy as np\n",
    "import pandas as pd\n",
    "import matplotlib.pyplot as plt\n",
    "import plotly.express as px"
   ]
  },
  {
   "cell_type": "markdown",
   "metadata": {},
   "source": [
    "### Q.1)"
   ]
  },
  {
   "cell_type": "code",
   "execution_count": 2,
   "metadata": {},
   "outputs": [
    {
     "data": {
      "text/html": [
       "<div>\n",
       "<style scoped>\n",
       "    .dataframe tbody tr th:only-of-type {\n",
       "        vertical-align: middle;\n",
       "    }\n",
       "\n",
       "    .dataframe tbody tr th {\n",
       "        vertical-align: top;\n",
       "    }\n",
       "\n",
       "    .dataframe thead th {\n",
       "        text-align: right;\n",
       "    }\n",
       "</style>\n",
       "<table border=\"1\" class=\"dataframe\">\n",
       "  <thead>\n",
       "    <tr style=\"text-align: right;\">\n",
       "      <th></th>\n",
       "      <th>ship_id</th>\n",
       "      <th>ship_type</th>\n",
       "      <th>route_id</th>\n",
       "      <th>month</th>\n",
       "      <th>distance</th>\n",
       "      <th>fuel_type</th>\n",
       "      <th>fuel_consumption</th>\n",
       "      <th>CO2_emissions</th>\n",
       "      <th>weather_conditions</th>\n",
       "      <th>engine_efficiency</th>\n",
       "    </tr>\n",
       "  </thead>\n",
       "  <tbody>\n",
       "    <tr>\n",
       "      <th>0</th>\n",
       "      <td>NG001</td>\n",
       "      <td>Oil Service Boat</td>\n",
       "      <td>Warri-Bonny</td>\n",
       "      <td>January</td>\n",
       "      <td>132.26</td>\n",
       "      <td>HFO</td>\n",
       "      <td>3779.77</td>\n",
       "      <td>10625.76</td>\n",
       "      <td>Stormy</td>\n",
       "      <td>92.14</td>\n",
       "    </tr>\n",
       "    <tr>\n",
       "      <th>1</th>\n",
       "      <td>NG001</td>\n",
       "      <td>Oil Service Boat</td>\n",
       "      <td>Port Harcourt-Lagos</td>\n",
       "      <td>February</td>\n",
       "      <td>128.52</td>\n",
       "      <td>HFO</td>\n",
       "      <td>4461.44</td>\n",
       "      <td>12779.73</td>\n",
       "      <td>Moderate</td>\n",
       "      <td>92.98</td>\n",
       "    </tr>\n",
       "    <tr>\n",
       "      <th>2</th>\n",
       "      <td>NG001</td>\n",
       "      <td>Oil Service Boat</td>\n",
       "      <td>Port Harcourt-Lagos</td>\n",
       "      <td>March</td>\n",
       "      <td>67.30</td>\n",
       "      <td>HFO</td>\n",
       "      <td>1867.73</td>\n",
       "      <td>5353.01</td>\n",
       "      <td>Calm</td>\n",
       "      <td>87.61</td>\n",
       "    </tr>\n",
       "    <tr>\n",
       "      <th>3</th>\n",
       "      <td>NG001</td>\n",
       "      <td>Oil Service Boat</td>\n",
       "      <td>Port Harcourt-Lagos</td>\n",
       "      <td>April</td>\n",
       "      <td>71.68</td>\n",
       "      <td>Diesel</td>\n",
       "      <td>2393.51</td>\n",
       "      <td>6506.52</td>\n",
       "      <td>Stormy</td>\n",
       "      <td>87.42</td>\n",
       "    </tr>\n",
       "    <tr>\n",
       "      <th>4</th>\n",
       "      <td>NG001</td>\n",
       "      <td>Oil Service Boat</td>\n",
       "      <td>Lagos-Apapa</td>\n",
       "      <td>May</td>\n",
       "      <td>134.32</td>\n",
       "      <td>HFO</td>\n",
       "      <td>4267.19</td>\n",
       "      <td>11617.03</td>\n",
       "      <td>Calm</td>\n",
       "      <td>85.61</td>\n",
       "    </tr>\n",
       "    <tr>\n",
       "      <th>...</th>\n",
       "      <td>...</td>\n",
       "      <td>...</td>\n",
       "      <td>...</td>\n",
       "      <td>...</td>\n",
       "      <td>...</td>\n",
       "      <td>...</td>\n",
       "      <td>...</td>\n",
       "      <td>...</td>\n",
       "      <td>...</td>\n",
       "      <td>...</td>\n",
       "    </tr>\n",
       "    <tr>\n",
       "      <th>1435</th>\n",
       "      <td>NG120</td>\n",
       "      <td>Fishing Trawler</td>\n",
       "      <td>Port Harcourt-Lagos</td>\n",
       "      <td>August</td>\n",
       "      <td>63.84</td>\n",
       "      <td>Diesel</td>\n",
       "      <td>1633.85</td>\n",
       "      <td>4852.28</td>\n",
       "      <td>Stormy</td>\n",
       "      <td>75.88</td>\n",
       "    </tr>\n",
       "    <tr>\n",
       "      <th>1436</th>\n",
       "      <td>NG120</td>\n",
       "      <td>Fishing Trawler</td>\n",
       "      <td>Lagos-Apapa</td>\n",
       "      <td>September</td>\n",
       "      <td>61.43</td>\n",
       "      <td>HFO</td>\n",
       "      <td>1263.48</td>\n",
       "      <td>3571.13</td>\n",
       "      <td>Calm</td>\n",
       "      <td>78.00</td>\n",
       "    </tr>\n",
       "    <tr>\n",
       "      <th>1437</th>\n",
       "      <td>NG120</td>\n",
       "      <td>Fishing Trawler</td>\n",
       "      <td>Port Harcourt-Lagos</td>\n",
       "      <td>October</td>\n",
       "      <td>193.09</td>\n",
       "      <td>HFO</td>\n",
       "      <td>4661.63</td>\n",
       "      <td>12267.13</td>\n",
       "      <td>Stormy</td>\n",
       "      <td>79.67</td>\n",
       "    </tr>\n",
       "    <tr>\n",
       "      <th>1438</th>\n",
       "      <td>NG120</td>\n",
       "      <td>Fishing Trawler</td>\n",
       "      <td>Lagos-Apapa</td>\n",
       "      <td>November</td>\n",
       "      <td>166.50</td>\n",
       "      <td>Diesel</td>\n",
       "      <td>4298.00</td>\n",
       "      <td>12297.71</td>\n",
       "      <td>Moderate</td>\n",
       "      <td>92.87</td>\n",
       "    </tr>\n",
       "    <tr>\n",
       "      <th>1439</th>\n",
       "      <td>NG120</td>\n",
       "      <td>Fishing Trawler</td>\n",
       "      <td>Warri-Bonny</td>\n",
       "      <td>December</td>\n",
       "      <td>127.66</td>\n",
       "      <td>Diesel</td>\n",
       "      <td>3549.91</td>\n",
       "      <td>10641.90</td>\n",
       "      <td>Moderate</td>\n",
       "      <td>90.82</td>\n",
       "    </tr>\n",
       "  </tbody>\n",
       "</table>\n",
       "<p>1440 rows × 10 columns</p>\n",
       "</div>"
      ],
      "text/plain": [
       "     ship_id         ship_type             route_id      month  distance  \\\n",
       "0      NG001  Oil Service Boat          Warri-Bonny    January    132.26   \n",
       "1      NG001  Oil Service Boat  Port Harcourt-Lagos   February    128.52   \n",
       "2      NG001  Oil Service Boat  Port Harcourt-Lagos      March     67.30   \n",
       "3      NG001  Oil Service Boat  Port Harcourt-Lagos      April     71.68   \n",
       "4      NG001  Oil Service Boat          Lagos-Apapa        May    134.32   \n",
       "...      ...               ...                  ...        ...       ...   \n",
       "1435   NG120   Fishing Trawler  Port Harcourt-Lagos     August     63.84   \n",
       "1436   NG120   Fishing Trawler          Lagos-Apapa  September     61.43   \n",
       "1437   NG120   Fishing Trawler  Port Harcourt-Lagos    October    193.09   \n",
       "1438   NG120   Fishing Trawler          Lagos-Apapa   November    166.50   \n",
       "1439   NG120   Fishing Trawler          Warri-Bonny   December    127.66   \n",
       "\n",
       "     fuel_type  fuel_consumption  CO2_emissions weather_conditions  \\\n",
       "0          HFO           3779.77       10625.76             Stormy   \n",
       "1          HFO           4461.44       12779.73           Moderate   \n",
       "2          HFO           1867.73        5353.01               Calm   \n",
       "3       Diesel           2393.51        6506.52             Stormy   \n",
       "4          HFO           4267.19       11617.03               Calm   \n",
       "...        ...               ...            ...                ...   \n",
       "1435    Diesel           1633.85        4852.28             Stormy   \n",
       "1436       HFO           1263.48        3571.13               Calm   \n",
       "1437       HFO           4661.63       12267.13             Stormy   \n",
       "1438    Diesel           4298.00       12297.71           Moderate   \n",
       "1439    Diesel           3549.91       10641.90           Moderate   \n",
       "\n",
       "      engine_efficiency  \n",
       "0                 92.14  \n",
       "1                 92.98  \n",
       "2                 87.61  \n",
       "3                 87.42  \n",
       "4                 85.61  \n",
       "...                 ...  \n",
       "1435              75.88  \n",
       "1436              78.00  \n",
       "1437              79.67  \n",
       "1438              92.87  \n",
       "1439              90.82  \n",
       "\n",
       "[1440 rows x 10 columns]"
      ]
     },
     "execution_count": 2,
     "metadata": {},
     "output_type": "execute_result"
    }
   ],
   "source": [
    "ship_data = pd.read_csv(\"D:\\\\VS code\\\\datasets\\\\ship_fuel_efficiency.csv\")\n",
    "ship_data"
   ]
  },
  {
   "cell_type": "code",
   "execution_count": 3,
   "metadata": {},
   "outputs": [
    {
     "data": {
      "text/plain": [
       "Index(['ship_id', 'ship_type', 'route_id', 'month', 'distance', 'fuel_type',\n",
       "       'fuel_consumption', 'CO2_emissions', 'weather_conditions',\n",
       "       'engine_efficiency'],\n",
       "      dtype='object')"
      ]
     },
     "execution_count": 3,
     "metadata": {},
     "output_type": "execute_result"
    }
   ],
   "source": [
    "ship_data.columns"
   ]
  },
  {
   "cell_type": "code",
   "execution_count": 4,
   "metadata": {},
   "outputs": [],
   "source": [
    "ship_avgtyp1= ship_data.groupby(['ship_type','weather_conditions'])['engine_efficiency'].mean().reset_index()\n",
    "ship_avgtyp2= ship_data.groupby(['ship_type','weather_conditions'])['distance'].mean().reset_index()"
   ]
  },
  {
   "cell_type": "code",
   "execution_count": 5,
   "metadata": {},
   "outputs": [
    {
     "data": {
      "application/vnd.plotly.v1+json": {
       "config": {
        "plotlyServerURL": "https://plot.ly"
       },
       "data": [
        {
         "alignmentgroup": "True",
         "hovertemplate": "weather_conditions=Calm<br>ship_type=%{x}<br>engine_efficiency=%{y}<extra></extra>",
         "legendgroup": "Calm",
         "marker": {
          "color": "#636efa",
          "pattern": {
           "shape": ""
          }
         },
         "name": "Calm",
         "offsetgroup": "Calm",
         "orientation": "v",
         "showlegend": true,
         "textposition": "auto",
         "type": "bar",
         "x": [
          "Fishing Trawler",
          "Oil Service Boat",
          "Surfer Boat",
          "Tanker Ship"
         ],
         "xaxis": "x",
         "y": [
          81.93637254901961,
          83.53163522012579,
          81.43544554455445,
          82.26519480519481
         ],
         "yaxis": "y"
        },
        {
         "alignmentgroup": "True",
         "hovertemplate": "weather_conditions=Moderate<br>ship_type=%{x}<br>engine_efficiency=%{y}<extra></extra>",
         "legendgroup": "Moderate",
         "marker": {
          "color": "#EF553B",
          "pattern": {
           "shape": ""
          }
         },
         "name": "Moderate",
         "offsetgroup": "Moderate",
         "orientation": "v",
         "showlegend": true,
         "textposition": "auto",
         "type": "bar",
         "x": [
          "Fishing Trawler",
          "Oil Service Boat",
          "Surfer Boat",
          "Tanker Ship"
         ],
         "xaxis": "x",
         "y": [
          82.2627450980392,
          83.85880952380951,
          82.098,
          82.89459677419354
         ],
         "yaxis": "y"
        },
        {
         "alignmentgroup": "True",
         "hovertemplate": "weather_conditions=Stormy<br>ship_type=%{x}<br>engine_efficiency=%{y}<extra></extra>",
         "legendgroup": "Stormy",
         "marker": {
          "color": "#00cc96",
          "pattern": {
           "shape": ""
          }
         },
         "name": "Stormy",
         "offsetgroup": "Stormy",
         "orientation": "v",
         "showlegend": true,
         "textposition": "auto",
         "type": "bar",
         "x": [
          "Fishing Trawler",
          "Oil Service Boat",
          "Surfer Boat",
          "Tanker Ship"
         ],
         "xaxis": "x",
         "y": [
          82.220625,
          82.82471544715447,
          83.68415929203539,
          81.40692307692308
         ],
         "yaxis": "y"
        }
       ],
       "layout": {
        "barmode": "group",
        "legend": {
         "title": {
          "text": "weather_conditions"
         },
         "tracegroupgap": 0
        },
        "margin": {
         "t": 60
        },
        "template": {
         "data": {
          "bar": [
           {
            "error_x": {
             "color": "#2a3f5f"
            },
            "error_y": {
             "color": "#2a3f5f"
            },
            "marker": {
             "line": {
              "color": "#E5ECF6",
              "width": 0.5
             },
             "pattern": {
              "fillmode": "overlay",
              "size": 10,
              "solidity": 0.2
             }
            },
            "type": "bar"
           }
          ],
          "barpolar": [
           {
            "marker": {
             "line": {
              "color": "#E5ECF6",
              "width": 0.5
             },
             "pattern": {
              "fillmode": "overlay",
              "size": 10,
              "solidity": 0.2
             }
            },
            "type": "barpolar"
           }
          ],
          "carpet": [
           {
            "aaxis": {
             "endlinecolor": "#2a3f5f",
             "gridcolor": "white",
             "linecolor": "white",
             "minorgridcolor": "white",
             "startlinecolor": "#2a3f5f"
            },
            "baxis": {
             "endlinecolor": "#2a3f5f",
             "gridcolor": "white",
             "linecolor": "white",
             "minorgridcolor": "white",
             "startlinecolor": "#2a3f5f"
            },
            "type": "carpet"
           }
          ],
          "choropleth": [
           {
            "colorbar": {
             "outlinewidth": 0,
             "ticks": ""
            },
            "type": "choropleth"
           }
          ],
          "contour": [
           {
            "colorbar": {
             "outlinewidth": 0,
             "ticks": ""
            },
            "colorscale": [
             [
              0,
              "#0d0887"
             ],
             [
              0.1111111111111111,
              "#46039f"
             ],
             [
              0.2222222222222222,
              "#7201a8"
             ],
             [
              0.3333333333333333,
              "#9c179e"
             ],
             [
              0.4444444444444444,
              "#bd3786"
             ],
             [
              0.5555555555555556,
              "#d8576b"
             ],
             [
              0.6666666666666666,
              "#ed7953"
             ],
             [
              0.7777777777777778,
              "#fb9f3a"
             ],
             [
              0.8888888888888888,
              "#fdca26"
             ],
             [
              1,
              "#f0f921"
             ]
            ],
            "type": "contour"
           }
          ],
          "contourcarpet": [
           {
            "colorbar": {
             "outlinewidth": 0,
             "ticks": ""
            },
            "type": "contourcarpet"
           }
          ],
          "heatmap": [
           {
            "colorbar": {
             "outlinewidth": 0,
             "ticks": ""
            },
            "colorscale": [
             [
              0,
              "#0d0887"
             ],
             [
              0.1111111111111111,
              "#46039f"
             ],
             [
              0.2222222222222222,
              "#7201a8"
             ],
             [
              0.3333333333333333,
              "#9c179e"
             ],
             [
              0.4444444444444444,
              "#bd3786"
             ],
             [
              0.5555555555555556,
              "#d8576b"
             ],
             [
              0.6666666666666666,
              "#ed7953"
             ],
             [
              0.7777777777777778,
              "#fb9f3a"
             ],
             [
              0.8888888888888888,
              "#fdca26"
             ],
             [
              1,
              "#f0f921"
             ]
            ],
            "type": "heatmap"
           }
          ],
          "heatmapgl": [
           {
            "colorbar": {
             "outlinewidth": 0,
             "ticks": ""
            },
            "colorscale": [
             [
              0,
              "#0d0887"
             ],
             [
              0.1111111111111111,
              "#46039f"
             ],
             [
              0.2222222222222222,
              "#7201a8"
             ],
             [
              0.3333333333333333,
              "#9c179e"
             ],
             [
              0.4444444444444444,
              "#bd3786"
             ],
             [
              0.5555555555555556,
              "#d8576b"
             ],
             [
              0.6666666666666666,
              "#ed7953"
             ],
             [
              0.7777777777777778,
              "#fb9f3a"
             ],
             [
              0.8888888888888888,
              "#fdca26"
             ],
             [
              1,
              "#f0f921"
             ]
            ],
            "type": "heatmapgl"
           }
          ],
          "histogram": [
           {
            "marker": {
             "pattern": {
              "fillmode": "overlay",
              "size": 10,
              "solidity": 0.2
             }
            },
            "type": "histogram"
           }
          ],
          "histogram2d": [
           {
            "colorbar": {
             "outlinewidth": 0,
             "ticks": ""
            },
            "colorscale": [
             [
              0,
              "#0d0887"
             ],
             [
              0.1111111111111111,
              "#46039f"
             ],
             [
              0.2222222222222222,
              "#7201a8"
             ],
             [
              0.3333333333333333,
              "#9c179e"
             ],
             [
              0.4444444444444444,
              "#bd3786"
             ],
             [
              0.5555555555555556,
              "#d8576b"
             ],
             [
              0.6666666666666666,
              "#ed7953"
             ],
             [
              0.7777777777777778,
              "#fb9f3a"
             ],
             [
              0.8888888888888888,
              "#fdca26"
             ],
             [
              1,
              "#f0f921"
             ]
            ],
            "type": "histogram2d"
           }
          ],
          "histogram2dcontour": [
           {
            "colorbar": {
             "outlinewidth": 0,
             "ticks": ""
            },
            "colorscale": [
             [
              0,
              "#0d0887"
             ],
             [
              0.1111111111111111,
              "#46039f"
             ],
             [
              0.2222222222222222,
              "#7201a8"
             ],
             [
              0.3333333333333333,
              "#9c179e"
             ],
             [
              0.4444444444444444,
              "#bd3786"
             ],
             [
              0.5555555555555556,
              "#d8576b"
             ],
             [
              0.6666666666666666,
              "#ed7953"
             ],
             [
              0.7777777777777778,
              "#fb9f3a"
             ],
             [
              0.8888888888888888,
              "#fdca26"
             ],
             [
              1,
              "#f0f921"
             ]
            ],
            "type": "histogram2dcontour"
           }
          ],
          "mesh3d": [
           {
            "colorbar": {
             "outlinewidth": 0,
             "ticks": ""
            },
            "type": "mesh3d"
           }
          ],
          "parcoords": [
           {
            "line": {
             "colorbar": {
              "outlinewidth": 0,
              "ticks": ""
             }
            },
            "type": "parcoords"
           }
          ],
          "pie": [
           {
            "automargin": true,
            "type": "pie"
           }
          ],
          "scatter": [
           {
            "fillpattern": {
             "fillmode": "overlay",
             "size": 10,
             "solidity": 0.2
            },
            "type": "scatter"
           }
          ],
          "scatter3d": [
           {
            "line": {
             "colorbar": {
              "outlinewidth": 0,
              "ticks": ""
             }
            },
            "marker": {
             "colorbar": {
              "outlinewidth": 0,
              "ticks": ""
             }
            },
            "type": "scatter3d"
           }
          ],
          "scattercarpet": [
           {
            "marker": {
             "colorbar": {
              "outlinewidth": 0,
              "ticks": ""
             }
            },
            "type": "scattercarpet"
           }
          ],
          "scattergeo": [
           {
            "marker": {
             "colorbar": {
              "outlinewidth": 0,
              "ticks": ""
             }
            },
            "type": "scattergeo"
           }
          ],
          "scattergl": [
           {
            "marker": {
             "colorbar": {
              "outlinewidth": 0,
              "ticks": ""
             }
            },
            "type": "scattergl"
           }
          ],
          "scattermapbox": [
           {
            "marker": {
             "colorbar": {
              "outlinewidth": 0,
              "ticks": ""
             }
            },
            "type": "scattermapbox"
           }
          ],
          "scatterpolar": [
           {
            "marker": {
             "colorbar": {
              "outlinewidth": 0,
              "ticks": ""
             }
            },
            "type": "scatterpolar"
           }
          ],
          "scatterpolargl": [
           {
            "marker": {
             "colorbar": {
              "outlinewidth": 0,
              "ticks": ""
             }
            },
            "type": "scatterpolargl"
           }
          ],
          "scatterternary": [
           {
            "marker": {
             "colorbar": {
              "outlinewidth": 0,
              "ticks": ""
             }
            },
            "type": "scatterternary"
           }
          ],
          "surface": [
           {
            "colorbar": {
             "outlinewidth": 0,
             "ticks": ""
            },
            "colorscale": [
             [
              0,
              "#0d0887"
             ],
             [
              0.1111111111111111,
              "#46039f"
             ],
             [
              0.2222222222222222,
              "#7201a8"
             ],
             [
              0.3333333333333333,
              "#9c179e"
             ],
             [
              0.4444444444444444,
              "#bd3786"
             ],
             [
              0.5555555555555556,
              "#d8576b"
             ],
             [
              0.6666666666666666,
              "#ed7953"
             ],
             [
              0.7777777777777778,
              "#fb9f3a"
             ],
             [
              0.8888888888888888,
              "#fdca26"
             ],
             [
              1,
              "#f0f921"
             ]
            ],
            "type": "surface"
           }
          ],
          "table": [
           {
            "cells": {
             "fill": {
              "color": "#EBF0F8"
             },
             "line": {
              "color": "white"
             }
            },
            "header": {
             "fill": {
              "color": "#C8D4E3"
             },
             "line": {
              "color": "white"
             }
            },
            "type": "table"
           }
          ]
         },
         "layout": {
          "annotationdefaults": {
           "arrowcolor": "#2a3f5f",
           "arrowhead": 0,
           "arrowwidth": 1
          },
          "autotypenumbers": "strict",
          "coloraxis": {
           "colorbar": {
            "outlinewidth": 0,
            "ticks": ""
           }
          },
          "colorscale": {
           "diverging": [
            [
             0,
             "#8e0152"
            ],
            [
             0.1,
             "#c51b7d"
            ],
            [
             0.2,
             "#de77ae"
            ],
            [
             0.3,
             "#f1b6da"
            ],
            [
             0.4,
             "#fde0ef"
            ],
            [
             0.5,
             "#f7f7f7"
            ],
            [
             0.6,
             "#e6f5d0"
            ],
            [
             0.7,
             "#b8e186"
            ],
            [
             0.8,
             "#7fbc41"
            ],
            [
             0.9,
             "#4d9221"
            ],
            [
             1,
             "#276419"
            ]
           ],
           "sequential": [
            [
             0,
             "#0d0887"
            ],
            [
             0.1111111111111111,
             "#46039f"
            ],
            [
             0.2222222222222222,
             "#7201a8"
            ],
            [
             0.3333333333333333,
             "#9c179e"
            ],
            [
             0.4444444444444444,
             "#bd3786"
            ],
            [
             0.5555555555555556,
             "#d8576b"
            ],
            [
             0.6666666666666666,
             "#ed7953"
            ],
            [
             0.7777777777777778,
             "#fb9f3a"
            ],
            [
             0.8888888888888888,
             "#fdca26"
            ],
            [
             1,
             "#f0f921"
            ]
           ],
           "sequentialminus": [
            [
             0,
             "#0d0887"
            ],
            [
             0.1111111111111111,
             "#46039f"
            ],
            [
             0.2222222222222222,
             "#7201a8"
            ],
            [
             0.3333333333333333,
             "#9c179e"
            ],
            [
             0.4444444444444444,
             "#bd3786"
            ],
            [
             0.5555555555555556,
             "#d8576b"
            ],
            [
             0.6666666666666666,
             "#ed7953"
            ],
            [
             0.7777777777777778,
             "#fb9f3a"
            ],
            [
             0.8888888888888888,
             "#fdca26"
            ],
            [
             1,
             "#f0f921"
            ]
           ]
          },
          "colorway": [
           "#636efa",
           "#EF553B",
           "#00cc96",
           "#ab63fa",
           "#FFA15A",
           "#19d3f3",
           "#FF6692",
           "#B6E880",
           "#FF97FF",
           "#FECB52"
          ],
          "font": {
           "color": "#2a3f5f"
          },
          "geo": {
           "bgcolor": "white",
           "lakecolor": "white",
           "landcolor": "#E5ECF6",
           "showlakes": true,
           "showland": true,
           "subunitcolor": "white"
          },
          "hoverlabel": {
           "align": "left"
          },
          "hovermode": "closest",
          "mapbox": {
           "style": "light"
          },
          "paper_bgcolor": "white",
          "plot_bgcolor": "#E5ECF6",
          "polar": {
           "angularaxis": {
            "gridcolor": "white",
            "linecolor": "white",
            "ticks": ""
           },
           "bgcolor": "#E5ECF6",
           "radialaxis": {
            "gridcolor": "white",
            "linecolor": "white",
            "ticks": ""
           }
          },
          "scene": {
           "xaxis": {
            "backgroundcolor": "#E5ECF6",
            "gridcolor": "white",
            "gridwidth": 2,
            "linecolor": "white",
            "showbackground": true,
            "ticks": "",
            "zerolinecolor": "white"
           },
           "yaxis": {
            "backgroundcolor": "#E5ECF6",
            "gridcolor": "white",
            "gridwidth": 2,
            "linecolor": "white",
            "showbackground": true,
            "ticks": "",
            "zerolinecolor": "white"
           },
           "zaxis": {
            "backgroundcolor": "#E5ECF6",
            "gridcolor": "white",
            "gridwidth": 2,
            "linecolor": "white",
            "showbackground": true,
            "ticks": "",
            "zerolinecolor": "white"
           }
          },
          "shapedefaults": {
           "line": {
            "color": "#2a3f5f"
           }
          },
          "ternary": {
           "aaxis": {
            "gridcolor": "white",
            "linecolor": "white",
            "ticks": ""
           },
           "baxis": {
            "gridcolor": "white",
            "linecolor": "white",
            "ticks": ""
           },
           "bgcolor": "#E5ECF6",
           "caxis": {
            "gridcolor": "white",
            "linecolor": "white",
            "ticks": ""
           }
          },
          "title": {
           "x": 0.05
          },
          "xaxis": {
           "automargin": true,
           "gridcolor": "white",
           "linecolor": "white",
           "ticks": "",
           "title": {
            "standoff": 15
           },
           "zerolinecolor": "white",
           "zerolinewidth": 2
          },
          "yaxis": {
           "automargin": true,
           "gridcolor": "white",
           "linecolor": "white",
           "ticks": "",
           "title": {
            "standoff": 15
           },
           "zerolinecolor": "white",
           "zerolinewidth": 2
          }
         }
        },
        "xaxis": {
         "anchor": "y",
         "domain": [
          0,
          1
         ],
         "title": {
          "text": "ship_type"
         }
        },
        "yaxis": {
         "anchor": "x",
         "domain": [
          0,
          1
         ],
         "title": {
          "text": "engine_efficiency"
         }
        }
       }
      }
     },
     "metadata": {},
     "output_type": "display_data"
    }
   ],
   "source": [
    "px.bar(ship_avgtyp1,x='ship_type',y='engine_efficiency',color='weather_conditions',barmode='group')\n"
   ]
  },
  {
   "cell_type": "code",
   "execution_count": 6,
   "metadata": {},
   "outputs": [
    {
     "data": {
      "application/vnd.plotly.v1+json": {
       "config": {
        "plotlyServerURL": "https://plot.ly"
       },
       "data": [
        {
         "alignmentgroup": "True",
         "hovertemplate": "weather_conditions=Calm<br>ship_type=%{x}<br>distance=%{y}<extra></extra>",
         "legendgroup": "Calm",
         "marker": {
          "color": "#636efa",
          "pattern": {
           "shape": ""
          }
         },
         "name": "Calm",
         "offsetgroup": "Calm",
         "orientation": "v",
         "showlegend": true,
         "textposition": "auto",
         "type": "bar",
         "x": [
          "Fishing Trawler",
          "Oil Service Boat",
          "Surfer Boat",
          "Tanker Ship"
         ],
         "xaxis": "x",
         "y": [
          124.1286274509804,
          87.39792452830189,
          107.60445544554455,
          269.7528571428572
         ],
         "yaxis": "y"
        },
        {
         "alignmentgroup": "True",
         "hovertemplate": "weather_conditions=Moderate<br>ship_type=%{x}<br>distance=%{y}<extra></extra>",
         "legendgroup": "Moderate",
         "marker": {
          "color": "#EF553B",
          "pattern": {
           "shape": ""
          }
         },
         "name": "Moderate",
         "offsetgroup": "Moderate",
         "orientation": "v",
         "showlegend": true,
         "textposition": "auto",
         "type": "bar",
         "x": [
          "Fishing Trawler",
          "Oil Service Boat",
          "Surfer Boat",
          "Tanker Ship"
         ],
         "xaxis": "x",
         "y": [
          133.63754901960786,
          88.42761904761905,
          110.39145454545454,
          268.25540322580645
         ],
         "yaxis": "y"
        },
        {
         "alignmentgroup": "True",
         "hovertemplate": "weather_conditions=Stormy<br>ship_type=%{x}<br>distance=%{y}<extra></extra>",
         "legendgroup": "Stormy",
         "marker": {
          "color": "#00cc96",
          "pattern": {
           "shape": ""
          }
         },
         "name": "Stormy",
         "offsetgroup": "Stormy",
         "orientation": "v",
         "showlegend": true,
         "textposition": "auto",
         "type": "bar",
         "x": [
          "Fishing Trawler",
          "Oil Service Boat",
          "Surfer Boat",
          "Tanker Ship"
         ],
         "xaxis": "x",
         "y": [
          125.00822916666668,
          83.67341463414634,
          115.50283185840708,
          261.7951538461539
         ],
         "yaxis": "y"
        }
       ],
       "layout": {
        "barmode": "group",
        "legend": {
         "title": {
          "text": "weather_conditions"
         },
         "tracegroupgap": 0
        },
        "margin": {
         "t": 60
        },
        "template": {
         "data": {
          "bar": [
           {
            "error_x": {
             "color": "#2a3f5f"
            },
            "error_y": {
             "color": "#2a3f5f"
            },
            "marker": {
             "line": {
              "color": "#E5ECF6",
              "width": 0.5
             },
             "pattern": {
              "fillmode": "overlay",
              "size": 10,
              "solidity": 0.2
             }
            },
            "type": "bar"
           }
          ],
          "barpolar": [
           {
            "marker": {
             "line": {
              "color": "#E5ECF6",
              "width": 0.5
             },
             "pattern": {
              "fillmode": "overlay",
              "size": 10,
              "solidity": 0.2
             }
            },
            "type": "barpolar"
           }
          ],
          "carpet": [
           {
            "aaxis": {
             "endlinecolor": "#2a3f5f",
             "gridcolor": "white",
             "linecolor": "white",
             "minorgridcolor": "white",
             "startlinecolor": "#2a3f5f"
            },
            "baxis": {
             "endlinecolor": "#2a3f5f",
             "gridcolor": "white",
             "linecolor": "white",
             "minorgridcolor": "white",
             "startlinecolor": "#2a3f5f"
            },
            "type": "carpet"
           }
          ],
          "choropleth": [
           {
            "colorbar": {
             "outlinewidth": 0,
             "ticks": ""
            },
            "type": "choropleth"
           }
          ],
          "contour": [
           {
            "colorbar": {
             "outlinewidth": 0,
             "ticks": ""
            },
            "colorscale": [
             [
              0,
              "#0d0887"
             ],
             [
              0.1111111111111111,
              "#46039f"
             ],
             [
              0.2222222222222222,
              "#7201a8"
             ],
             [
              0.3333333333333333,
              "#9c179e"
             ],
             [
              0.4444444444444444,
              "#bd3786"
             ],
             [
              0.5555555555555556,
              "#d8576b"
             ],
             [
              0.6666666666666666,
              "#ed7953"
             ],
             [
              0.7777777777777778,
              "#fb9f3a"
             ],
             [
              0.8888888888888888,
              "#fdca26"
             ],
             [
              1,
              "#f0f921"
             ]
            ],
            "type": "contour"
           }
          ],
          "contourcarpet": [
           {
            "colorbar": {
             "outlinewidth": 0,
             "ticks": ""
            },
            "type": "contourcarpet"
           }
          ],
          "heatmap": [
           {
            "colorbar": {
             "outlinewidth": 0,
             "ticks": ""
            },
            "colorscale": [
             [
              0,
              "#0d0887"
             ],
             [
              0.1111111111111111,
              "#46039f"
             ],
             [
              0.2222222222222222,
              "#7201a8"
             ],
             [
              0.3333333333333333,
              "#9c179e"
             ],
             [
              0.4444444444444444,
              "#bd3786"
             ],
             [
              0.5555555555555556,
              "#d8576b"
             ],
             [
              0.6666666666666666,
              "#ed7953"
             ],
             [
              0.7777777777777778,
              "#fb9f3a"
             ],
             [
              0.8888888888888888,
              "#fdca26"
             ],
             [
              1,
              "#f0f921"
             ]
            ],
            "type": "heatmap"
           }
          ],
          "heatmapgl": [
           {
            "colorbar": {
             "outlinewidth": 0,
             "ticks": ""
            },
            "colorscale": [
             [
              0,
              "#0d0887"
             ],
             [
              0.1111111111111111,
              "#46039f"
             ],
             [
              0.2222222222222222,
              "#7201a8"
             ],
             [
              0.3333333333333333,
              "#9c179e"
             ],
             [
              0.4444444444444444,
              "#bd3786"
             ],
             [
              0.5555555555555556,
              "#d8576b"
             ],
             [
              0.6666666666666666,
              "#ed7953"
             ],
             [
              0.7777777777777778,
              "#fb9f3a"
             ],
             [
              0.8888888888888888,
              "#fdca26"
             ],
             [
              1,
              "#f0f921"
             ]
            ],
            "type": "heatmapgl"
           }
          ],
          "histogram": [
           {
            "marker": {
             "pattern": {
              "fillmode": "overlay",
              "size": 10,
              "solidity": 0.2
             }
            },
            "type": "histogram"
           }
          ],
          "histogram2d": [
           {
            "colorbar": {
             "outlinewidth": 0,
             "ticks": ""
            },
            "colorscale": [
             [
              0,
              "#0d0887"
             ],
             [
              0.1111111111111111,
              "#46039f"
             ],
             [
              0.2222222222222222,
              "#7201a8"
             ],
             [
              0.3333333333333333,
              "#9c179e"
             ],
             [
              0.4444444444444444,
              "#bd3786"
             ],
             [
              0.5555555555555556,
              "#d8576b"
             ],
             [
              0.6666666666666666,
              "#ed7953"
             ],
             [
              0.7777777777777778,
              "#fb9f3a"
             ],
             [
              0.8888888888888888,
              "#fdca26"
             ],
             [
              1,
              "#f0f921"
             ]
            ],
            "type": "histogram2d"
           }
          ],
          "histogram2dcontour": [
           {
            "colorbar": {
             "outlinewidth": 0,
             "ticks": ""
            },
            "colorscale": [
             [
              0,
              "#0d0887"
             ],
             [
              0.1111111111111111,
              "#46039f"
             ],
             [
              0.2222222222222222,
              "#7201a8"
             ],
             [
              0.3333333333333333,
              "#9c179e"
             ],
             [
              0.4444444444444444,
              "#bd3786"
             ],
             [
              0.5555555555555556,
              "#d8576b"
             ],
             [
              0.6666666666666666,
              "#ed7953"
             ],
             [
              0.7777777777777778,
              "#fb9f3a"
             ],
             [
              0.8888888888888888,
              "#fdca26"
             ],
             [
              1,
              "#f0f921"
             ]
            ],
            "type": "histogram2dcontour"
           }
          ],
          "mesh3d": [
           {
            "colorbar": {
             "outlinewidth": 0,
             "ticks": ""
            },
            "type": "mesh3d"
           }
          ],
          "parcoords": [
           {
            "line": {
             "colorbar": {
              "outlinewidth": 0,
              "ticks": ""
             }
            },
            "type": "parcoords"
           }
          ],
          "pie": [
           {
            "automargin": true,
            "type": "pie"
           }
          ],
          "scatter": [
           {
            "fillpattern": {
             "fillmode": "overlay",
             "size": 10,
             "solidity": 0.2
            },
            "type": "scatter"
           }
          ],
          "scatter3d": [
           {
            "line": {
             "colorbar": {
              "outlinewidth": 0,
              "ticks": ""
             }
            },
            "marker": {
             "colorbar": {
              "outlinewidth": 0,
              "ticks": ""
             }
            },
            "type": "scatter3d"
           }
          ],
          "scattercarpet": [
           {
            "marker": {
             "colorbar": {
              "outlinewidth": 0,
              "ticks": ""
             }
            },
            "type": "scattercarpet"
           }
          ],
          "scattergeo": [
           {
            "marker": {
             "colorbar": {
              "outlinewidth": 0,
              "ticks": ""
             }
            },
            "type": "scattergeo"
           }
          ],
          "scattergl": [
           {
            "marker": {
             "colorbar": {
              "outlinewidth": 0,
              "ticks": ""
             }
            },
            "type": "scattergl"
           }
          ],
          "scattermapbox": [
           {
            "marker": {
             "colorbar": {
              "outlinewidth": 0,
              "ticks": ""
             }
            },
            "type": "scattermapbox"
           }
          ],
          "scatterpolar": [
           {
            "marker": {
             "colorbar": {
              "outlinewidth": 0,
              "ticks": ""
             }
            },
            "type": "scatterpolar"
           }
          ],
          "scatterpolargl": [
           {
            "marker": {
             "colorbar": {
              "outlinewidth": 0,
              "ticks": ""
             }
            },
            "type": "scatterpolargl"
           }
          ],
          "scatterternary": [
           {
            "marker": {
             "colorbar": {
              "outlinewidth": 0,
              "ticks": ""
             }
            },
            "type": "scatterternary"
           }
          ],
          "surface": [
           {
            "colorbar": {
             "outlinewidth": 0,
             "ticks": ""
            },
            "colorscale": [
             [
              0,
              "#0d0887"
             ],
             [
              0.1111111111111111,
              "#46039f"
             ],
             [
              0.2222222222222222,
              "#7201a8"
             ],
             [
              0.3333333333333333,
              "#9c179e"
             ],
             [
              0.4444444444444444,
              "#bd3786"
             ],
             [
              0.5555555555555556,
              "#d8576b"
             ],
             [
              0.6666666666666666,
              "#ed7953"
             ],
             [
              0.7777777777777778,
              "#fb9f3a"
             ],
             [
              0.8888888888888888,
              "#fdca26"
             ],
             [
              1,
              "#f0f921"
             ]
            ],
            "type": "surface"
           }
          ],
          "table": [
           {
            "cells": {
             "fill": {
              "color": "#EBF0F8"
             },
             "line": {
              "color": "white"
             }
            },
            "header": {
             "fill": {
              "color": "#C8D4E3"
             },
             "line": {
              "color": "white"
             }
            },
            "type": "table"
           }
          ]
         },
         "layout": {
          "annotationdefaults": {
           "arrowcolor": "#2a3f5f",
           "arrowhead": 0,
           "arrowwidth": 1
          },
          "autotypenumbers": "strict",
          "coloraxis": {
           "colorbar": {
            "outlinewidth": 0,
            "ticks": ""
           }
          },
          "colorscale": {
           "diverging": [
            [
             0,
             "#8e0152"
            ],
            [
             0.1,
             "#c51b7d"
            ],
            [
             0.2,
             "#de77ae"
            ],
            [
             0.3,
             "#f1b6da"
            ],
            [
             0.4,
             "#fde0ef"
            ],
            [
             0.5,
             "#f7f7f7"
            ],
            [
             0.6,
             "#e6f5d0"
            ],
            [
             0.7,
             "#b8e186"
            ],
            [
             0.8,
             "#7fbc41"
            ],
            [
             0.9,
             "#4d9221"
            ],
            [
             1,
             "#276419"
            ]
           ],
           "sequential": [
            [
             0,
             "#0d0887"
            ],
            [
             0.1111111111111111,
             "#46039f"
            ],
            [
             0.2222222222222222,
             "#7201a8"
            ],
            [
             0.3333333333333333,
             "#9c179e"
            ],
            [
             0.4444444444444444,
             "#bd3786"
            ],
            [
             0.5555555555555556,
             "#d8576b"
            ],
            [
             0.6666666666666666,
             "#ed7953"
            ],
            [
             0.7777777777777778,
             "#fb9f3a"
            ],
            [
             0.8888888888888888,
             "#fdca26"
            ],
            [
             1,
             "#f0f921"
            ]
           ],
           "sequentialminus": [
            [
             0,
             "#0d0887"
            ],
            [
             0.1111111111111111,
             "#46039f"
            ],
            [
             0.2222222222222222,
             "#7201a8"
            ],
            [
             0.3333333333333333,
             "#9c179e"
            ],
            [
             0.4444444444444444,
             "#bd3786"
            ],
            [
             0.5555555555555556,
             "#d8576b"
            ],
            [
             0.6666666666666666,
             "#ed7953"
            ],
            [
             0.7777777777777778,
             "#fb9f3a"
            ],
            [
             0.8888888888888888,
             "#fdca26"
            ],
            [
             1,
             "#f0f921"
            ]
           ]
          },
          "colorway": [
           "#636efa",
           "#EF553B",
           "#00cc96",
           "#ab63fa",
           "#FFA15A",
           "#19d3f3",
           "#FF6692",
           "#B6E880",
           "#FF97FF",
           "#FECB52"
          ],
          "font": {
           "color": "#2a3f5f"
          },
          "geo": {
           "bgcolor": "white",
           "lakecolor": "white",
           "landcolor": "#E5ECF6",
           "showlakes": true,
           "showland": true,
           "subunitcolor": "white"
          },
          "hoverlabel": {
           "align": "left"
          },
          "hovermode": "closest",
          "mapbox": {
           "style": "light"
          },
          "paper_bgcolor": "white",
          "plot_bgcolor": "#E5ECF6",
          "polar": {
           "angularaxis": {
            "gridcolor": "white",
            "linecolor": "white",
            "ticks": ""
           },
           "bgcolor": "#E5ECF6",
           "radialaxis": {
            "gridcolor": "white",
            "linecolor": "white",
            "ticks": ""
           }
          },
          "scene": {
           "xaxis": {
            "backgroundcolor": "#E5ECF6",
            "gridcolor": "white",
            "gridwidth": 2,
            "linecolor": "white",
            "showbackground": true,
            "ticks": "",
            "zerolinecolor": "white"
           },
           "yaxis": {
            "backgroundcolor": "#E5ECF6",
            "gridcolor": "white",
            "gridwidth": 2,
            "linecolor": "white",
            "showbackground": true,
            "ticks": "",
            "zerolinecolor": "white"
           },
           "zaxis": {
            "backgroundcolor": "#E5ECF6",
            "gridcolor": "white",
            "gridwidth": 2,
            "linecolor": "white",
            "showbackground": true,
            "ticks": "",
            "zerolinecolor": "white"
           }
          },
          "shapedefaults": {
           "line": {
            "color": "#2a3f5f"
           }
          },
          "ternary": {
           "aaxis": {
            "gridcolor": "white",
            "linecolor": "white",
            "ticks": ""
           },
           "baxis": {
            "gridcolor": "white",
            "linecolor": "white",
            "ticks": ""
           },
           "bgcolor": "#E5ECF6",
           "caxis": {
            "gridcolor": "white",
            "linecolor": "white",
            "ticks": ""
           }
          },
          "title": {
           "x": 0.05
          },
          "xaxis": {
           "automargin": true,
           "gridcolor": "white",
           "linecolor": "white",
           "ticks": "",
           "title": {
            "standoff": 15
           },
           "zerolinecolor": "white",
           "zerolinewidth": 2
          },
          "yaxis": {
           "automargin": true,
           "gridcolor": "white",
           "linecolor": "white",
           "ticks": "",
           "title": {
            "standoff": 15
           },
           "zerolinecolor": "white",
           "zerolinewidth": 2
          }
         }
        },
        "xaxis": {
         "anchor": "y",
         "domain": [
          0,
          1
         ],
         "title": {
          "text": "ship_type"
         }
        },
        "yaxis": {
         "anchor": "x",
         "domain": [
          0,
          1
         ],
         "title": {
          "text": "distance"
         }
        }
       }
      }
     },
     "metadata": {},
     "output_type": "display_data"
    }
   ],
   "source": [
    "px.bar(ship_avgtyp2,x='ship_type',y='distance',color='weather_conditions',barmode='group')"
   ]
  },
  {
   "cell_type": "markdown",
   "metadata": {},
   "source": [
    "### Q.2) Generate the following graphs and arrange them as a dashboard in subploat format : a)box plot for fuel consumption and CO2 emission b) month wise CO2 emission c)plot the regression graph for distance against fuel consumption"
   ]
  },
  {
   "cell_type": "code",
   "execution_count": 37,
   "metadata": {},
   "outputs": [
    {
     "data": {
      "image/png": "[encoded data removed]",
      "text/plain": [
       "<Figure size 1200x800 with 4 Axes>"
      ]
     },
     "metadata": {},
     "output_type": "display_data"
    }
   ],
   "source": [
    "fig,axes = plt.subplots(2,2,figsize=(12,8))\n",
    "ship_data[['fuel_consumption','CO2_emissions']].plot(kind='box',ax=axes[0,0])\n",
    "ship_data.groupby('month')['CO2_emissions'].mean().plot(kind='box',ax=axes[0,1])\n",
    "\n",
    "axes[1,0].scatter(ship_data['distance'],ship_data['fuel_consumption'],label='Data',color='blue')\n",
    "m, b =np.polyfit(ship_data['distance'],ship_data['fuel_consumption'],1)  #regression line\n",
    "axes[1,0].plot(ship_data['distance'],m*ship_data['distance'] + b,color='red',label='regression line')\n",
    "axes[1,0].set_title('regression')\n",
    "axes[1,0].set_xlabel('distance')\n",
    "axes[1,0].set_ylabel('fuel consumption')\n",
    "axes[1,0].legend()\n",
    "plt.show()\n"
   ]
  },
  {
   "cell_type": "markdown",
   "metadata": {},
   "source": [
    "### Q.3) a)which is the longest route b)which ship is is done maximum service"
   ]
  },
  {
   "cell_type": "code",
   "execution_count": 7,
   "metadata": {},
   "outputs": [
    {
     "data": {
      "text/html": [
       "<div>\n",
       "<style scoped>\n",
       "    .dataframe tbody tr th:only-of-type {\n",
       "        vertical-align: middle;\n",
       "    }\n",
       "\n",
       "    .dataframe tbody tr th {\n",
       "        vertical-align: top;\n",
       "    }\n",
       "\n",
       "    .dataframe thead th {\n",
       "        text-align: right;\n",
       "    }\n",
       "</style>\n",
       "<table border=\"1\" class=\"dataframe\">\n",
       "  <thead>\n",
       "    <tr style=\"text-align: right;\">\n",
       "      <th></th>\n",
       "      <th>ship_id</th>\n",
       "      <th>ship_type</th>\n",
       "      <th>route_id</th>\n",
       "      <th>month</th>\n",
       "      <th>distance</th>\n",
       "      <th>fuel_type</th>\n",
       "      <th>fuel_consumption</th>\n",
       "      <th>CO2_emissions</th>\n",
       "      <th>weather_conditions</th>\n",
       "      <th>engine_efficiency</th>\n",
       "    </tr>\n",
       "  </thead>\n",
       "  <tbody>\n",
       "    <tr>\n",
       "      <th>0</th>\n",
       "      <td>NG001</td>\n",
       "      <td>Oil Service Boat</td>\n",
       "      <td>Warri-Bonny</td>\n",
       "      <td>January</td>\n",
       "      <td>132.26</td>\n",
       "      <td>HFO</td>\n",
       "      <td>3779.77</td>\n",
       "      <td>10625.76</td>\n",
       "      <td>Stormy</td>\n",
       "      <td>92.14</td>\n",
       "    </tr>\n",
       "    <tr>\n",
       "      <th>1</th>\n",
       "      <td>NG001</td>\n",
       "      <td>Oil Service Boat</td>\n",
       "      <td>Port Harcourt-Lagos</td>\n",
       "      <td>February</td>\n",
       "      <td>128.52</td>\n",
       "      <td>HFO</td>\n",
       "      <td>4461.44</td>\n",
       "      <td>12779.73</td>\n",
       "      <td>Moderate</td>\n",
       "      <td>92.98</td>\n",
       "    </tr>\n",
       "    <tr>\n",
       "      <th>2</th>\n",
       "      <td>NG001</td>\n",
       "      <td>Oil Service Boat</td>\n",
       "      <td>Port Harcourt-Lagos</td>\n",
       "      <td>March</td>\n",
       "      <td>67.30</td>\n",
       "      <td>HFO</td>\n",
       "      <td>1867.73</td>\n",
       "      <td>5353.01</td>\n",
       "      <td>Calm</td>\n",
       "      <td>87.61</td>\n",
       "    </tr>\n",
       "  </tbody>\n",
       "</table>\n",
       "</div>"
      ],
      "text/plain": [
       "  ship_id         ship_type             route_id     month  distance  \\\n",
       "0   NG001  Oil Service Boat          Warri-Bonny   January    132.26   \n",
       "1   NG001  Oil Service Boat  Port Harcourt-Lagos  February    128.52   \n",
       "2   NG001  Oil Service Boat  Port Harcourt-Lagos     March     67.30   \n",
       "\n",
       "  fuel_type  fuel_consumption  CO2_emissions weather_conditions  \\\n",
       "0       HFO           3779.77       10625.76             Stormy   \n",
       "1       HFO           4461.44       12779.73           Moderate   \n",
       "2       HFO           1867.73        5353.01               Calm   \n",
       "\n",
       "   engine_efficiency  \n",
       "0              92.14  \n",
       "1              92.98  \n",
       "2              87.61  "
      ]
     },
     "execution_count": 7,
     "metadata": {},
     "output_type": "execute_result"
    }
   ],
   "source": [
    "ship_data.head(3)"
   ]
  },
  {
   "cell_type": "code",
   "execution_count": 13,
   "metadata": {},
   "outputs": [
    {
     "data": {
      "text/plain": [
       "'Lagos-Apapa'"
      ]
     },
     "execution_count": 13,
     "metadata": {},
     "output_type": "execute_result"
    }
   ],
   "source": [
    "ship_data.groupby(['route_id'])['distance'].max().idxmax()"
   ]
  },
  {
   "cell_type": "code",
   "execution_count": 12,
   "metadata": {},
   "outputs": [
    {
     "data": {
      "text/plain": [
       "'NG086'"
      ]
     },
     "execution_count": 12,
     "metadata": {},
     "output_type": "execute_result"
    }
   ],
   "source": [
    "ship_data.groupby(['ship_id'])['engine_efficiency'].max().idxmax()"
   ]
  },
  {
   "cell_type": "markdown",
   "metadata": {},
   "source": [
    "### Q.4) Perform the descriptive statistics and conclude the data"
   ]
  },
  {
   "cell_type": "code",
   "execution_count": 13,
   "metadata": {},
   "outputs": [
    {
     "data": {
      "text/html": [
       "<div>\n",
       "<style scoped>\n",
       "    .dataframe tbody tr th:only-of-type {\n",
       "        vertical-align: middle;\n",
       "    }\n",
       "\n",
       "    .dataframe tbody tr th {\n",
       "        vertical-align: top;\n",
       "    }\n",
       "\n",
       "    .dataframe thead th {\n",
       "        text-align: right;\n",
       "    }\n",
       "</style>\n",
       "<table border=\"1\" class=\"dataframe\">\n",
       "  <thead>\n",
       "    <tr style=\"text-align: right;\">\n",
       "      <th></th>\n",
       "      <th>ship_id</th>\n",
       "      <th>ship_type</th>\n",
       "      <th>route_id</th>\n",
       "      <th>month</th>\n",
       "      <th>distance</th>\n",
       "      <th>fuel_type</th>\n",
       "      <th>fuel_consumption</th>\n",
       "      <th>CO2_emissions</th>\n",
       "      <th>weather_conditions</th>\n",
       "      <th>engine_efficiency</th>\n",
       "    </tr>\n",
       "  </thead>\n",
       "  <tbody>\n",
       "    <tr>\n",
       "      <th>0</th>\n",
       "      <td>NG001</td>\n",
       "      <td>Oil Service Boat</td>\n",
       "      <td>Warri-Bonny</td>\n",
       "      <td>January</td>\n",
       "      <td>132.26</td>\n",
       "      <td>HFO</td>\n",
       "      <td>3779.77</td>\n",
       "      <td>10625.76</td>\n",
       "      <td>Stormy</td>\n",
       "      <td>92.14</td>\n",
       "    </tr>\n",
       "    <tr>\n",
       "      <th>1</th>\n",
       "      <td>NG001</td>\n",
       "      <td>Oil Service Boat</td>\n",
       "      <td>Port Harcourt-Lagos</td>\n",
       "      <td>February</td>\n",
       "      <td>128.52</td>\n",
       "      <td>HFO</td>\n",
       "      <td>4461.44</td>\n",
       "      <td>12779.73</td>\n",
       "      <td>Moderate</td>\n",
       "      <td>92.98</td>\n",
       "    </tr>\n",
       "    <tr>\n",
       "      <th>2</th>\n",
       "      <td>NG001</td>\n",
       "      <td>Oil Service Boat</td>\n",
       "      <td>Port Harcourt-Lagos</td>\n",
       "      <td>March</td>\n",
       "      <td>67.30</td>\n",
       "      <td>HFO</td>\n",
       "      <td>1867.73</td>\n",
       "      <td>5353.01</td>\n",
       "      <td>Calm</td>\n",
       "      <td>87.61</td>\n",
       "    </tr>\n",
       "    <tr>\n",
       "      <th>3</th>\n",
       "      <td>NG001</td>\n",
       "      <td>Oil Service Boat</td>\n",
       "      <td>Port Harcourt-Lagos</td>\n",
       "      <td>April</td>\n",
       "      <td>71.68</td>\n",
       "      <td>Diesel</td>\n",
       "      <td>2393.51</td>\n",
       "      <td>6506.52</td>\n",
       "      <td>Stormy</td>\n",
       "      <td>87.42</td>\n",
       "    </tr>\n",
       "    <tr>\n",
       "      <th>4</th>\n",
       "      <td>NG001</td>\n",
       "      <td>Oil Service Boat</td>\n",
       "      <td>Lagos-Apapa</td>\n",
       "      <td>May</td>\n",
       "      <td>134.32</td>\n",
       "      <td>HFO</td>\n",
       "      <td>4267.19</td>\n",
       "      <td>11617.03</td>\n",
       "      <td>Calm</td>\n",
       "      <td>85.61</td>\n",
       "    </tr>\n",
       "  </tbody>\n",
       "</table>\n",
       "</div>"
      ],
      "text/plain": [
       "  ship_id         ship_type             route_id     month  distance  \\\n",
       "0   NG001  Oil Service Boat          Warri-Bonny   January    132.26   \n",
       "1   NG001  Oil Service Boat  Port Harcourt-Lagos  February    128.52   \n",
       "2   NG001  Oil Service Boat  Port Harcourt-Lagos     March     67.30   \n",
       "3   NG001  Oil Service Boat  Port Harcourt-Lagos     April     71.68   \n",
       "4   NG001  Oil Service Boat          Lagos-Apapa       May    134.32   \n",
       "\n",
       "  fuel_type  fuel_consumption  CO2_emissions weather_conditions  \\\n",
       "0       HFO           3779.77       10625.76             Stormy   \n",
       "1       HFO           4461.44       12779.73           Moderate   \n",
       "2       HFO           1867.73        5353.01               Calm   \n",
       "3    Diesel           2393.51        6506.52             Stormy   \n",
       "4       HFO           4267.19       11617.03               Calm   \n",
       "\n",
       "   engine_efficiency  \n",
       "0              92.14  \n",
       "1              92.98  \n",
       "2              87.61  \n",
       "3              87.42  \n",
       "4              85.61  "
      ]
     },
     "execution_count": 13,
     "metadata": {},
     "output_type": "execute_result"
    }
   ],
   "source": [
    "ship_data.head()"
   ]
  },
  {
   "cell_type": "code",
   "execution_count": 14,
   "metadata": {},
   "outputs": [
    {
     "data": {
      "text/html": [
       "<div>\n",
       "<style scoped>\n",
       "    .dataframe tbody tr th:only-of-type {\n",
       "        vertical-align: middle;\n",
       "    }\n",
       "\n",
       "    .dataframe tbody tr th {\n",
       "        vertical-align: top;\n",
       "    }\n",
       "\n",
       "    .dataframe thead th {\n",
       "        text-align: right;\n",
       "    }\n",
       "</style>\n",
       "<table border=\"1\" class=\"dataframe\">\n",
       "  <thead>\n",
       "    <tr style=\"text-align: right;\">\n",
       "      <th></th>\n",
       "      <th>ship_id</th>\n",
       "      <th>ship_type</th>\n",
       "      <th>route_id</th>\n",
       "      <th>month</th>\n",
       "      <th>distance</th>\n",
       "      <th>fuel_type</th>\n",
       "      <th>fuel_consumption</th>\n",
       "      <th>CO2_emissions</th>\n",
       "      <th>weather_conditions</th>\n",
       "      <th>engine_efficiency</th>\n",
       "    </tr>\n",
       "  </thead>\n",
       "  <tbody>\n",
       "    <tr>\n",
       "      <th>1435</th>\n",
       "      <td>NG120</td>\n",
       "      <td>Fishing Trawler</td>\n",
       "      <td>Port Harcourt-Lagos</td>\n",
       "      <td>August</td>\n",
       "      <td>63.84</td>\n",
       "      <td>Diesel</td>\n",
       "      <td>1633.85</td>\n",
       "      <td>4852.28</td>\n",
       "      <td>Stormy</td>\n",
       "      <td>75.88</td>\n",
       "    </tr>\n",
       "    <tr>\n",
       "      <th>1436</th>\n",
       "      <td>NG120</td>\n",
       "      <td>Fishing Trawler</td>\n",
       "      <td>Lagos-Apapa</td>\n",
       "      <td>September</td>\n",
       "      <td>61.43</td>\n",
       "      <td>HFO</td>\n",
       "      <td>1263.48</td>\n",
       "      <td>3571.13</td>\n",
       "      <td>Calm</td>\n",
       "      <td>78.00</td>\n",
       "    </tr>\n",
       "    <tr>\n",
       "      <th>1437</th>\n",
       "      <td>NG120</td>\n",
       "      <td>Fishing Trawler</td>\n",
       "      <td>Port Harcourt-Lagos</td>\n",
       "      <td>October</td>\n",
       "      <td>193.09</td>\n",
       "      <td>HFO</td>\n",
       "      <td>4661.63</td>\n",
       "      <td>12267.13</td>\n",
       "      <td>Stormy</td>\n",
       "      <td>79.67</td>\n",
       "    </tr>\n",
       "    <tr>\n",
       "      <th>1438</th>\n",
       "      <td>NG120</td>\n",
       "      <td>Fishing Trawler</td>\n",
       "      <td>Lagos-Apapa</td>\n",
       "      <td>November</td>\n",
       "      <td>166.50</td>\n",
       "      <td>Diesel</td>\n",
       "      <td>4298.00</td>\n",
       "      <td>12297.71</td>\n",
       "      <td>Moderate</td>\n",
       "      <td>92.87</td>\n",
       "    </tr>\n",
       "    <tr>\n",
       "      <th>1439</th>\n",
       "      <td>NG120</td>\n",
       "      <td>Fishing Trawler</td>\n",
       "      <td>Warri-Bonny</td>\n",
       "      <td>December</td>\n",
       "      <td>127.66</td>\n",
       "      <td>Diesel</td>\n",
       "      <td>3549.91</td>\n",
       "      <td>10641.90</td>\n",
       "      <td>Moderate</td>\n",
       "      <td>90.82</td>\n",
       "    </tr>\n",
       "  </tbody>\n",
       "</table>\n",
       "</div>"
      ],
      "text/plain": [
       "     ship_id        ship_type             route_id      month  distance  \\\n",
       "1435   NG120  Fishing Trawler  Port Harcourt-Lagos     August     63.84   \n",
       "1436   NG120  Fishing Trawler          Lagos-Apapa  September     61.43   \n",
       "1437   NG120  Fishing Trawler  Port Harcourt-Lagos    October    193.09   \n",
       "1438   NG120  Fishing Trawler          Lagos-Apapa   November    166.50   \n",
       "1439   NG120  Fishing Trawler          Warri-Bonny   December    127.66   \n",
       "\n",
       "     fuel_type  fuel_consumption  CO2_emissions weather_conditions  \\\n",
       "1435    Diesel           1633.85        4852.28             Stormy   \n",
       "1436       HFO           1263.48        3571.13               Calm   \n",
       "1437       HFO           4661.63       12267.13             Stormy   \n",
       "1438    Diesel           4298.00       12297.71           Moderate   \n",
       "1439    Diesel           3549.91       10641.90           Moderate   \n",
       "\n",
       "      engine_efficiency  \n",
       "1435              75.88  \n",
       "1436              78.00  \n",
       "1437              79.67  \n",
       "1438              92.87  \n",
       "1439              90.82  "
      ]
     },
     "execution_count": 14,
     "metadata": {},
     "output_type": "execute_result"
    }
   ],
   "source": [
    "ship_data.tail()"
   ]
  },
  {
   "cell_type": "code",
   "execution_count": 15,
   "metadata": {},
   "outputs": [
    {
     "data": {
      "text/html": [
       "<div>\n",
       "<style scoped>\n",
       "    .dataframe tbody tr th:only-of-type {\n",
       "        vertical-align: middle;\n",
       "    }\n",
       "\n",
       "    .dataframe tbody tr th {\n",
       "        vertical-align: top;\n",
       "    }\n",
       "\n",
       "    .dataframe thead th {\n",
       "        text-align: right;\n",
       "    }\n",
       "</style>\n",
       "<table border=\"1\" class=\"dataframe\">\n",
       "  <thead>\n",
       "    <tr style=\"text-align: right;\">\n",
       "      <th></th>\n",
       "      <th>distance</th>\n",
       "      <th>fuel_consumption</th>\n",
       "      <th>CO2_emissions</th>\n",
       "      <th>engine_efficiency</th>\n",
       "    </tr>\n",
       "  </thead>\n",
       "  <tbody>\n",
       "    <tr>\n",
       "      <th>count</th>\n",
       "      <td>1440.000000</td>\n",
       "      <td>1440.000000</td>\n",
       "      <td>1440.000000</td>\n",
       "      <td>1440.000000</td>\n",
       "    </tr>\n",
       "    <tr>\n",
       "      <th>mean</th>\n",
       "      <td>151.753354</td>\n",
       "      <td>4844.246535</td>\n",
       "      <td>13365.454882</td>\n",
       "      <td>82.582924</td>\n",
       "    </tr>\n",
       "    <tr>\n",
       "      <th>std</th>\n",
       "      <td>108.472230</td>\n",
       "      <td>4892.352813</td>\n",
       "      <td>13567.650118</td>\n",
       "      <td>7.158289</td>\n",
       "    </tr>\n",
       "    <tr>\n",
       "      <th>min</th>\n",
       "      <td>20.080000</td>\n",
       "      <td>237.880000</td>\n",
       "      <td>615.680000</td>\n",
       "      <td>70.010000</td>\n",
       "    </tr>\n",
       "    <tr>\n",
       "      <th>25%</th>\n",
       "      <td>79.002500</td>\n",
       "      <td>1837.962500</td>\n",
       "      <td>4991.485000</td>\n",
       "      <td>76.255000</td>\n",
       "    </tr>\n",
       "    <tr>\n",
       "      <th>50%</th>\n",
       "      <td>123.465000</td>\n",
       "      <td>3060.880000</td>\n",
       "      <td>8423.255000</td>\n",
       "      <td>82.775000</td>\n",
       "    </tr>\n",
       "    <tr>\n",
       "      <th>75%</th>\n",
       "      <td>180.780000</td>\n",
       "      <td>4870.675000</td>\n",
       "      <td>13447.120000</td>\n",
       "      <td>88.862500</td>\n",
       "    </tr>\n",
       "    <tr>\n",
       "      <th>max</th>\n",
       "      <td>498.550000</td>\n",
       "      <td>24648.520000</td>\n",
       "      <td>71871.210000</td>\n",
       "      <td>94.980000</td>\n",
       "    </tr>\n",
       "  </tbody>\n",
       "</table>\n",
       "</div>"
      ],
      "text/plain": [
       "          distance  fuel_consumption  CO2_emissions  engine_efficiency\n",
       "count  1440.000000       1440.000000    1440.000000        1440.000000\n",
       "mean    151.753354       4844.246535   13365.454882          82.582924\n",
       "std     108.472230       4892.352813   13567.650118           7.158289\n",
       "min      20.080000        237.880000     615.680000          70.010000\n",
       "25%      79.002500       1837.962500    4991.485000          76.255000\n",
       "50%     123.465000       3060.880000    8423.255000          82.775000\n",
       "75%     180.780000       4870.675000   13447.120000          88.862500\n",
       "max     498.550000      24648.520000   71871.210000          94.980000"
      ]
     },
     "execution_count": 15,
     "metadata": {},
     "output_type": "execute_result"
    }
   ],
   "source": [
    "ship_data.describe()"
   ]
  },
  {
   "cell_type": "code",
   "execution_count": null,
   "metadata": {},
   "outputs": [],
   "source": [
    "# the mean distance is 151.753354 and minimum distance is 20.080000\n",
    "# the mean fuel_consumption is 4844.246535 and minimum distance is 237.880000\n",
    "# the mean CO2_emissions is 13365.454882 and minimum distance is 615.680000"
   ]
  },
  {
   "cell_type": "code",
   "execution_count": 24,
   "metadata": {},
   "outputs": [
    {
     "data": {
      "text/plain": [
       "fuel_type\n",
       "Diesel    24648.52\n",
       "HFO       23503.71\n",
       "Name: fuel_consumption, dtype: float64"
      ]
     },
     "execution_count": 24,
     "metadata": {},
     "output_type": "execute_result"
    }
   ],
   "source": [
    "ship_data.groupby(['fuel_type'])['fuel_consumption'].max()"
   ]
  },
  {
   "cell_type": "code",
   "execution_count": null,
   "metadata": {},
   "outputs": [],
   "source": [
    "# Diesel ships consume more fuel"
   ]
  },
  {
   "cell_type": "code",
   "execution_count": 21,
   "metadata": {},
   "outputs": [
    {
     "data": {
      "text/plain": [
       "ship_type\n",
       "Fishing Trawler     199.96\n",
       "Oil Service Boat    149.95\n",
       "Surfer Boat         199.91\n",
       "Tanker Ship         498.55\n",
       "Name: distance, dtype: float64"
      ]
     },
     "execution_count": 21,
     "metadata": {},
     "output_type": "execute_result"
    }
   ],
   "source": [
    "ship_data.groupby(['ship_type'])['distance'].max()"
   ]
  },
  {
   "cell_type": "code",
   "execution_count": 22,
   "metadata": {},
   "outputs": [],
   "source": [
    "# Tanker ship cover more distance"
   ]
  },
  {
   "cell_type": "code",
   "execution_count": 25,
   "metadata": {},
   "outputs": [
    {
     "data": {
      "text/plain": [
       "fuel_type\n",
       "Diesel    71871.21\n",
       "HFO       65937.46\n",
       "Name: CO2_emissions, dtype: float64"
      ]
     },
     "execution_count": 25,
     "metadata": {},
     "output_type": "execute_result"
    }
   ],
   "source": [
    "ship_data.groupby(['fuel_type'])['CO2_emissions'].max()\n"
   ]
  },
  {
   "cell_type": "code",
   "execution_count": null,
   "metadata": {},
   "outputs": [],
   "source": [
    "#diesel ships have more CO2 emission "
   ]
  },
  {
   "cell_type": "markdown",
   "metadata": {},
   "source": [
    "### Q.5) Which Fuel type covers more distance in less CO2 emission"
   ]
  },
  {
   "cell_type": "code",
   "execution_count": 34,
   "metadata": {},
   "outputs": [
    {
     "data": {
      "text/plain": [
       "'HFO'"
      ]
     },
     "execution_count": 34,
     "metadata": {},
     "output_type": "execute_result"
    }
   ],
   "source": [
    "ship_data.groupby(['fuel_type']).max()['distance'].idxmax()  and ship_data.groupby(['fuel_type']).min()['CO2_emissions'].idxmax()"
   ]
  },
  {
   "cell_type": "code",
   "execution_count": null,
   "metadata": {},
   "outputs": [],
   "source": []
  }
 ],
 "metadata": {
  "kernelspec": {
   "display_name": "Python 3",
   "language": "python",
   "name": "python3"
  },
  "language_info": {
   "codemirror_mode": {
    "name": "ipython",
    "version": 3
   },
   "file_extension": ".py",
   "mimetype": "text/x-python",
   "name": "python",
   "nbconvert_exporter": "python",
   "pygments_lexer": "ipython3",
   "version": "3.12.3"
  }
 },
 "nbformat": 4,
 "nbformat_minor": 2
}
